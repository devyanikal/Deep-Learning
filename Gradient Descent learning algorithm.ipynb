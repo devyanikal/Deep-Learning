{
  "cells": [
    {
      "cell_type": "code",
      "execution_count": null,
      "id": "03951f8f",
      "metadata": {
        "id": "03951f8f"
      },
      "outputs": [],
      "source": [
        "import numpy as np"
      ]
    },
    {
      "cell_type": "code",
      "execution_count": null,
      "id": "bda50178",
      "metadata": {
        "id": "bda50178"
      },
      "outputs": [],
      "source": [
        "class Layer:\n",
        "    def __init__(self):\n",
        "        self.input = None\n",
        "        self.output = None\n",
        "        \n",
        "    def forward(self, input):\n",
        "        pass\n",
        "    \n",
        "    def backward(self,output_gradient, learning_rate):\n",
        "        pass"
      ]
    },
    {
      "cell_type": "code",
      "execution_count": null,
      "id": "977a9949",
      "metadata": {
        "id": "977a9949"
      },
      "outputs": [],
      "source": [
        "class Dense(Layer):\n",
        "    def __init__(self, input_size, output_size):\n",
        "        self.weights = np.random.randn(output_size, input_size)\n",
        "        self.bias = np.random.randn(output_size, 1)\n",
        "        \n",
        "    def forward(self, input):\n",
        "        self.input = input\n",
        "        return np.dot(self.weights, self.input) + self.bias\n",
        "    \n",
        "    def backward(self, output_gradient, input_gradient):\n",
        "        weights_gradient = np.dot(output_gradient, self.input.T)\n",
        "        input_gradient = np.dot(self.weights.T, output_gradient)\n",
        "        \n",
        "        self.weights -= learning_rate * weights_gradient\n",
        "        self.bias -= learning_rate * output_gradient\n",
        "        \n",
        "        return input_gradient"
      ]
    },
    {
      "cell_type": "code",
      "execution_count": null,
      "id": "294eacb8",
      "metadata": {
        "id": "294eacb8"
      },
      "outputs": [],
      "source": [
        "def mse(y_true, y_pred):\n",
        "    return np.mean(np.power(y_true - y_pred, 2))\n",
        "\n",
        "def mse_prime(y_true, y_pred):\n",
        "    return 2 * (y_pred - y_true) / np.size(y_true)"
      ]
    },
    {
      "cell_type": "code",
      "execution_count": null,
      "id": "b3b168fc",
      "metadata": {
        "id": "b3b168fc"
      },
      "outputs": [],
      "source": [
        "class Activation(Layer):\n",
        "    def __init__(self, activation, activation_prime):\n",
        "        self.activation = activation\n",
        "        self.activation_prime = activation_prime\n",
        "    \n",
        "    def forward(self, input):\n",
        "        self.input = input\n",
        "        return self.activation(self.input)\n",
        "    \n",
        "    def backward(self, output_gradient, learning_rate):\n",
        "        return np.multiply(output_gradient, self.activation_prime(self.input))"
      ]
    },
    {
      "cell_type": "code",
      "execution_count": null,
      "id": "6045e1cb",
      "metadata": {
        "id": "6045e1cb"
      },
      "outputs": [],
      "source": [
        "class Tanh(Activation):\n",
        "    def __init__(self):\n",
        "        def tanh(x):\n",
        "            return np.tanh(x)\n",
        "        \n",
        "        def tanh_prime(x):\n",
        "            return 1- np.tanh(x) ** 2\n",
        "        \n",
        "        super().__init__(tanh, tanh_prime)\n",
        "        \n",
        "        \n",
        "class Sigmoid(Activation):\n",
        "    def __init__(self):\n",
        "        def sigmoid(x):\n",
        "            return 1 / (1 + np.exp(-x))\n",
        "        \n",
        "        def sigmoid_prime(x):\n",
        "            s = sigmoid(x)\n",
        "            return s * (1-s)\n",
        "        \n",
        "        super().__init__(sigmoid, sigmoid_prime)"
      ]
    },
    {
      "cell_type": "code",
      "execution_count": null,
      "id": "cba52042",
      "metadata": {
        "id": "cba52042"
      },
      "outputs": [],
      "source": [
        "import math"
      ]
    },
    {
      "cell_type": "code",
      "execution_count": null,
      "id": "bb44454b",
      "metadata": {
        "id": "bb44454b"
      },
      "outputs": [],
      "source": [
        "class Linear(Activation):\n",
        "    def __init__(self):\n",
        "        def linear(x):\n",
        "            return x\n",
        "        \n",
        "        def linear_prime(x):\n",
        "            return 1\n",
        "        \n",
        "        super().__init__(linear, linear_prime)"
      ]
    },
    {
      "cell_type": "code",
      "execution_count": null,
      "id": "c5f4c91c",
      "metadata": {
        "colab": {
          "base_uri": "https://localhost:8080/"
        },
        "id": "c5f4c91c",
        "outputId": "6d1eab22-5c36-4682-ee95-5a0be5a49bae"
      },
      "outputs": [
        {
          "name": "stdout",
          "output_type": "stream",
          "text": [
            "1/(10, error=1.557546717962512\n",
            "2/(10, error=0.015753345853621623\n",
            "3/(10, error=0.13513999720034872\n",
            "4/(10, error=0.21043633080642352\n",
            "5/(10, error=0.08631083833144564\n",
            "6/(10, error=0.10485617061254346\n",
            "7/(10, error=0.06492512135811643\n",
            "8/(10, error=0.06057768049742285\n",
            "9/(10, error=0.048353789779371985\n",
            "10/(10, error=0.042320154292793684\n"
          ]
        }
      ],
      "source": [
        "X = np.linspace(-3,3,61)\n",
        "Y = [math.sin(p) for p in X]\n",
        "\n",
        "network = [\n",
        "    Dense(1, 10),\n",
        "    Tanh(),\n",
        "    Dense(10, 1),\n",
        "    Linear()\n",
        "]\n",
        "\n",
        "epochs = 10\n",
        "learning_rate = 0.1\n",
        "errorlist = []\n",
        "\n",
        "for e in range(epochs):\n",
        "    error = 0\n",
        "    for x,y in zip(X,Y):\n",
        "        output = x\n",
        "        for layer in network:\n",
        "            output=layer.forward(output)\n",
        "        error += mse(y,output)\n",
        "        grad = mse_prime(y,output)\n",
        "\n",
        "        for layer in reversed(network):\n",
        "            grad = layer.backward(grad, learning_rate)\n",
        "    error /= len(X)\n",
        "    print(f\"{e + 1}/({epochs}, error={error}\")\n",
        "    errorlist.append(error)"
      ]
    },
    {
      "cell_type": "code",
      "execution_count": null,
      "id": "29b56cfc",
      "metadata": {
        "id": "29b56cfc"
      },
      "outputs": [],
      "source": [
        "# X"
      ]
    },
    {
      "cell_type": "code",
      "execution_count": null,
      "id": "0f83c02e",
      "metadata": {
        "id": "0f83c02e"
      },
      "outputs": [],
      "source": [
        "# Y"
      ]
    },
    {
      "cell_type": "code",
      "execution_count": null,
      "id": "e48193b5",
      "metadata": {
        "colab": {
          "base_uri": "https://localhost:8080/"
        },
        "id": "e48193b5",
        "outputId": "d5f9c76d-c13a-4d25-87e4-173dcfb6f658"
      },
      "outputs": [
        {
          "name": "stdout",
          "output_type": "stream",
          "text": [
            "[[-1.23133712]]\n",
            "[[-1.23900826]]\n",
            "[[-1.24708128]]\n",
            "[[-1.2555439]]\n",
            "[[-1.26437077]]\n",
            "[[-1.27351917]]\n",
            "[[-1.28292367]]\n",
            "[[-1.29248933]]\n",
            "[[-1.30208317]]\n",
            "[[-1.31152367]]\n",
            "[[-1.32056776]]\n",
            "[[-1.32889503]]\n",
            "[[-1.33608892]]\n",
            "[[-1.34161473]]\n",
            "[[-1.34479466]]\n",
            "[[-1.34478094]]\n",
            "[[-1.34052874]]\n",
            "[[-1.33077226]]\n",
            "[[-1.31400945]]\n",
            "[[-1.288503]]\n",
            "[[-1.25230839]]\n",
            "[[-1.20334121]]\n",
            "[[-1.13949679]]\n",
            "[[-1.05883085]]\n",
            "[[-0.95980138]]\n",
            "[[-0.841556]]\n",
            "[[-0.70422934]]\n",
            "[[-0.54919534]]\n",
            "[[-0.37920785]]\n",
            "[[-0.19836578]]\n",
            "[[-0.01186117]]\n",
            "[[0.17448953]]\n",
            "[[0.35486809]]\n",
            "[[0.52409616]]\n",
            "[[0.67811569]]\n",
            "[[0.8141659]]\n",
            "[[0.93064764]]\n",
            "[[1.02681675]]\n",
            "[[1.10249857]]\n",
            "[[1.15793459]]\n",
            "[[1.19374658]]\n",
            "[[1.21093699]]\n",
            "[[1.21085948]]\n",
            "[[1.19514311]]\n",
            "[[1.16559035]]\n",
            "[[1.12407748]]\n",
            "[[1.07247668]]\n",
            "[[1.01260532]]\n",
            "[[0.94619814]]\n",
            "[[0.87489377]]\n",
            "[[0.80022734]]\n",
            "[[0.72362312]]\n",
            "[[0.64638457]]\n",
            "[[0.56968169]]\n",
            "[[0.49453754]]\n",
            "[[0.42181675]]\n",
            "[[0.35221851]]\n",
            "[[0.28627574]]\n",
            "[[0.22436114]]\n",
            "[[0.16669946]]\n",
            "[[0.11338473]]\n"
          ]
        }
      ],
      "source": [
        "actual_Y = []\n",
        "for x in X:\n",
        "    output = x\n",
        "    for layer in network:\n",
        "        output=layer.forward(output)\n",
        "    actual_Y.append(output[0])\n",
        "    print(output)"
      ]
    },
    {
      "cell_type": "code",
      "execution_count": null,
      "id": "11527e4d",
      "metadata": {
        "id": "11527e4d"
      },
      "outputs": [],
      "source": [
        "import matplotlib.pyplot as plt"
      ]
    },
    {
      "cell_type": "code",
      "execution_count": null,
      "id": "6cce00ab",
      "metadata": {
        "colab": {
          "base_uri": "https://localhost:8080/",
          "height": 430
        },
        "id": "6cce00ab",
        "outputId": "28cb79ff-f739-409f-8236-c7e754ecfd1a"
      },
      "outputs": [
        {
          "data": {
            "image/png": "[encoded data removed]",
            "text/plain": [
              "<Figure size 640x480 with 1 Axes>"
            ]
          },
          "metadata": {},
          "output_type": "display_data"
        }
      ],
      "source": [
        "plt.plot(X,Y,color='blue')\n",
        "plt.plot(X, actual_Y,color='red')\n",
        "plt.show()"
      ]
    },
    {
      "cell_type": "code",
      "execution_count": null,
      "id": "ff29eedd",
      "metadata": {
        "id": "ff29eedd"
      },
      "outputs": [],
      "source": []
    },
    {
      "cell_type": "code",
      "execution_count": null,
      "id": "0ef71a3b",
      "metadata": {
        "id": "0ef71a3b"
      },
      "outputs": [],
      "source": [
        "import numpy as np\n",
        "import matplotlib.pyplot as plt\n",
        "from keras.datasets import mnist\n",
        "from keras.utils import np_utils"
      ]
    },
    {
      "cell_type": "code",
      "execution_count": null,
      "id": "79e8d0ec",
      "metadata": {
        "id": "79e8d0ec"
      },
      "outputs": [],
      "source": [
        "def preprocess_data(x, y, limit):\n",
        "        x = x.reshape(x.shape[0], 28 * 28, 1)\n",
        "        x = x.astype(\"float32\")/255\n",
        "        \n",
        "        y = np_utils.to_categorical(y)\n",
        "        y = y.reshape(y.shape[0], 10, 1)\n",
        "        \n",
        "        return x[:limit], y[:limit]"
      ]
    },
    {
      "cell_type": "code",
      "execution_count": null,
      "id": "f7517325",
      "metadata": {
        "id": "f7517325"
      },
      "outputs": [],
      "source": [
        "(x_train, y_train), (x_test, y_test) = mnist.load_data()\n",
        "x_train, y_train = preprocess_data(x_train, y_train, 10000)\n",
        "x_test, y_test = preprocess_data(x_test, y_test, 100)"
      ]
    },
    {
      "cell_type": "code",
      "execution_count": null,
      "id": "b4fc34fa",
      "metadata": {
        "colab": {
          "base_uri": "https://localhost:8080/"
        },
        "id": "b4fc34fa",
        "outputId": "20f1bb73-a509-4213-e83d-cc42a070fd1d"
      },
      "outputs": [
        {
          "name": "stdout",
          "output_type": "stream",
          "text": [
            "1/(100, error=10.40599150058036\n",
            "2/(100, error=7.667544563356428\n",
            "3/(100, error=2.288099612035926\n",
            "4/(100, error=1.7660266788742502\n",
            "5/(100, error=1.6210822551998243\n",
            "6/(100, error=1.5084359642312641\n",
            "7/(100, error=1.4272098028349667\n",
            "8/(100, error=1.3642780093282973\n",
            "9/(100, error=1.3127676706682032\n",
            "10/(100, error=1.2677788359840005\n",
            "11/(100, error=1.2279846597149264\n",
            "12/(100, error=1.1946625482462212\n",
            "13/(100, error=1.1620917438311915\n",
            "14/(100, error=1.1307251067280908\n",
            "15/(100, error=1.1038646021748857\n",
            "16/(100, error=1.0792058403289924\n",
            "17/(100, error=1.0534688842699556\n",
            "18/(100, error=1.0280645307766787\n",
            "19/(100, error=1.0059261881159842\n",
            "20/(100, error=0.986625958025481\n",
            "21/(100, error=0.9690963601794969\n",
            "22/(100, error=0.9533848015527088\n",
            "23/(100, error=0.9388460660281713\n",
            "24/(100, error=0.9249069779815103\n",
            "25/(100, error=0.9109628771291268\n",
            "26/(100, error=0.8970777410404206\n",
            "27/(100, error=0.8842569476188682\n",
            "28/(100, error=0.8734856264171513\n",
            "29/(100, error=0.8632591624790801\n",
            "30/(100, error=0.8532524857721285\n",
            "31/(100, error=0.8434377303086752\n",
            "32/(100, error=0.8338163864239153\n",
            "33/(100, error=0.8249335326172803\n",
            "34/(100, error=0.8160600181774869\n",
            "35/(100, error=0.8069169571678616\n",
            "36/(100, error=0.7972127728242147\n",
            "37/(100, error=0.7887625137772583\n",
            "38/(100, error=0.7806756795465687\n",
            "39/(100, error=0.7720911188479319\n",
            "40/(100, error=0.7634284297706131\n",
            "41/(100, error=0.7554161658295986\n",
            "42/(100, error=0.7483896608285319\n",
            "43/(100, error=0.7405102196661212\n",
            "44/(100, error=0.731865261930064\n",
            "45/(100, error=0.7243735779005723\n",
            "46/(100, error=0.7164168466014823\n",
            "47/(100, error=0.7063686745289625\n",
            "48/(100, error=0.6971922799721179\n",
            "49/(100, error=0.6893392365974759\n",
            "50/(100, error=0.6817510400632916\n",
            "51/(100, error=0.672872135669942\n",
            "52/(100, error=0.6658468690416163\n",
            "53/(100, error=0.6598370554785342\n",
            "54/(100, error=0.6542600153396482\n",
            "55/(100, error=0.6491251822410785\n",
            "56/(100, error=0.6442856378715427\n",
            "57/(100, error=0.6393456640022361\n",
            "58/(100, error=0.6343078740205735\n",
            "59/(100, error=0.6295986627655018\n",
            "60/(100, error=0.6253831978758699\n",
            "61/(100, error=0.6215053887035527\n",
            "62/(100, error=0.617839294798777\n",
            "63/(100, error=0.6144959378441044\n",
            "64/(100, error=0.6114813562148584\n",
            "65/(100, error=0.6086169755771627\n",
            "66/(100, error=0.6054608545909383\n",
            "67/(100, error=0.6018029779769494\n",
            "68/(100, error=0.5980631416714638\n",
            "69/(100, error=0.5946357496992098\n",
            "70/(100, error=0.5914309413969709\n",
            "71/(100, error=0.5886252248670516\n",
            "72/(100, error=0.5857317773017727\n",
            "73/(100, error=0.5826832168959973\n",
            "74/(100, error=0.5797340060340409\n",
            "75/(100, error=0.5771022546627362\n",
            "76/(100, error=0.5743386012960142\n",
            "77/(100, error=0.5715433658971725\n",
            "78/(100, error=0.5687107699246214\n",
            "79/(100, error=0.5661936930768311\n",
            "80/(100, error=0.5633763785803698\n",
            "81/(100, error=0.5601446348003443\n",
            "82/(100, error=0.5568751714294716\n",
            "83/(100, error=0.5540971295519317\n",
            "84/(100, error=0.5514689640883988\n",
            "85/(100, error=0.5491171077313065\n",
            "86/(100, error=0.5466559777511497\n",
            "87/(100, error=0.5444555134229246\n",
            "88/(100, error=0.5423166420570373\n",
            "89/(100, error=0.5404233196714232\n",
            "90/(100, error=0.5384514413012469\n",
            "91/(100, error=0.5366814990764474\n",
            "92/(100, error=0.5348672396954568\n",
            "93/(100, error=0.5331651399606561\n",
            "94/(100, error=0.5312992650761456\n",
            "95/(100, error=0.5295549155903808\n",
            "96/(100, error=0.5278199862652568\n",
            "97/(100, error=0.5260952725371214\n",
            "98/(100, error=0.5242344923618103\n",
            "99/(100, error=0.5224306522593211\n",
            "100/(100, error=0.5206183970775138\n"
          ]
        }
      ],
      "source": [
        "# network = [\n",
        "#     Dense(784, 80),\n",
        "#     Sigmoid(),\n",
        "#     Dense(80, 10),\n",
        "#     Sigmoid()\n",
        "# ]\n",
        "\n",
        "network = [\n",
        "    Dense(784, 80),\n",
        "    Tanh(),\n",
        "    Dense(80, 10),\n",
        "    Tanh()\n",
        "]\n",
        "\n",
        "epochs = 100\n",
        "learning_rate = 0.1\n",
        "errorlist = []\n",
        "\n",
        "for e in range(epochs):\n",
        "    error = 0\n",
        "    for x,y in zip(x_train,y_train):\n",
        "        output = x\n",
        "        for layer in network:\n",
        "            output=layer.forward(output)\n",
        "        error += mse(y,output)\n",
        "        grad = mse_prime(y,output)\n",
        "\n",
        "        for layer in reversed(network):\n",
        "            grad = layer.backward(grad, learning_rate)\n",
        "    error /= len(x)\n",
        "    print(f\"{e + 1}/({epochs}, error={error}\")\n",
        "    errorlist.append(error)"
      ]
    },
    {
      "cell_type": "code",
      "execution_count": null,
      "id": "a477267f",
      "metadata": {
        "id": "a477267f"
      },
      "outputs": [],
      "source": [
        "def predict(network, input):\n",
        "    output = input\n",
        "    for layer in network:\n",
        "        output = layer.forward(output)\n",
        "    return output"
      ]
    },
    {
      "cell_type": "code",
      "execution_count": null,
      "id": "3G-P8GUD8sm9",
      "metadata": {
        "colab": {
          "base_uri": "https://localhost:8080/"
        },
        "id": "3G-P8GUD8sm9",
        "outputId": "d8728053-8e4c-4361-f2b7-31d15253fb31"
      },
      "outputs": [
        {
          "name": "stdout",
          "output_type": "stream",
          "text": [
            "Looking in indexes: https://pypi.org/simple, https://us-python.pkg.dev/colab-wheels/public/simple/\n",
            "Collecting simple-colors\n",
            "  Downloading simple_colors-0.1.5-py3-none-any.whl (2.8 kB)\n",
            "Installing collected packages: simple-colors\n",
            "Successfully installed simple-colors-0.1.5\n"
          ]
        }
      ],
      "source": [
        "!pip install simple-colors"
      ]
    },
    {
      "cell_type": "code",
      "execution_count": null,
      "id": "a0eabd30",
      "metadata": {
        "id": "a0eabd30"
      },
      "outputs": [],
      "source": [
        "import simple_colors"
      ]
    },
    {
      "cell_type": "code",
      "execution_count": null,
      "id": "d92b564d",
      "metadata": {
        "colab": {
          "base_uri": "https://localhost:8080/"
        },
        "id": "d92b564d",
        "outputId": "ba9faec9-3443-4cca-87a8-f171237d473b"
      },
      "outputs": [
        {
          "name": "stdout",
          "output_type": "stream",
          "text": [
            "pred: 7 \ttrue: 7\n",
            "pred: 2 \ttrue: 2\n",
            "pred: 1 \ttrue: 1\n",
            "pred: 0 \ttrue: 0\n",
            "pred: 4 \ttrue: 4\n",
            "pred: 1 \ttrue: 1\n",
            "pred: 4 \ttrue: 4\n",
            "pred: 9 \ttrue: 9\n",
            "\u001b[31mpred: 3 \ttrue: 5\u001b[0m\n",
            "pred: 9 \ttrue: 9\n",
            "pred: 0 \ttrue: 0\n",
            "\u001b[31mpred: 8 \ttrue: 6\u001b[0m\n",
            "pred: 9 \ttrue: 9\n",
            "pred: 0 \ttrue: 0\n",
            "pred: 1 \ttrue: 1\n",
            "pred: 5 \ttrue: 5\n",
            "pred: 9 \ttrue: 9\n",
            "pred: 7 \ttrue: 7\n",
            "\u001b[31mpred: 8 \ttrue: 3\u001b[0m\n",
            "pred: 4 \ttrue: 4\n",
            "pred: 9 \ttrue: 9\n",
            "pred: 6 \ttrue: 6\n",
            "\u001b[31mpred: 3 \ttrue: 6\u001b[0m\n",
            "pred: 5 \ttrue: 5\n",
            "pred: 4 \ttrue: 4\n",
            "pred: 0 \ttrue: 0\n",
            "pred: 7 \ttrue: 7\n",
            "pred: 4 \ttrue: 4\n",
            "pred: 0 \ttrue: 0\n",
            "pred: 1 \ttrue: 1\n",
            "pred: 3 \ttrue: 3\n",
            "pred: 1 \ttrue: 1\n",
            "pred: 3 \ttrue: 3\n",
            "\u001b[31mpred: 6 \ttrue: 4\u001b[0m\n",
            "pred: 7 \ttrue: 7\n",
            "pred: 2 \ttrue: 2\n",
            "pred: 7 \ttrue: 7\n",
            "pred: 1 \ttrue: 1\n",
            "pred: 2 \ttrue: 2\n",
            "pred: 1 \ttrue: 1\n",
            "pred: 1 \ttrue: 1\n",
            "pred: 7 \ttrue: 7\n",
            "pred: 4 \ttrue: 4\n",
            "pred: 2 \ttrue: 2\n",
            "pred: 3 \ttrue: 3\n",
            "pred: 5 \ttrue: 5\n",
            "pred: 1 \ttrue: 1\n",
            "pred: 2 \ttrue: 2\n",
            "pred: 4 \ttrue: 4\n",
            "pred: 4 \ttrue: 4\n",
            "pred: 6 \ttrue: 6\n",
            "pred: 3 \ttrue: 3\n",
            "pred: 5 \ttrue: 5\n",
            "pred: 5 \ttrue: 5\n",
            "\u001b[31mpred: 8 \ttrue: 6\u001b[0m\n",
            "pred: 0 \ttrue: 0\n",
            "pred: 4 \ttrue: 4\n",
            "pred: 1 \ttrue: 1\n",
            "pred: 9 \ttrue: 9\n",
            "pred: 5 \ttrue: 5\n",
            "pred: 7 \ttrue: 7\n",
            "pred: 8 \ttrue: 8\n",
            "pred: 9 \ttrue: 9\n",
            "\u001b[31mpred: 2 \ttrue: 3\u001b[0m\n",
            "pred: 7 \ttrue: 7\n",
            "pred: 4 \ttrue: 4\n",
            "\u001b[31mpred: 8 \ttrue: 6\u001b[0m\n",
            "pred: 4 \ttrue: 4\n",
            "pred: 3 \ttrue: 3\n",
            "pred: 0 \ttrue: 0\n",
            "pred: 7 \ttrue: 7\n",
            "pred: 0 \ttrue: 0\n",
            "pred: 2 \ttrue: 2\n",
            "pred: 9 \ttrue: 9\n",
            "pred: 1 \ttrue: 1\n",
            "pred: 7 \ttrue: 7\n",
            "pred: 3 \ttrue: 3\n",
            "\u001b[31mpred: 7 \ttrue: 2\u001b[0m\n",
            "pred: 9 \ttrue: 9\n",
            "pred: 7 \ttrue: 7\n",
            "pred: 7 \ttrue: 7\n",
            "pred: 6 \ttrue: 6\n",
            "pred: 2 \ttrue: 2\n",
            "pred: 7 \ttrue: 7\n",
            "pred: 8 \ttrue: 8\n",
            "pred: 4 \ttrue: 4\n",
            "pred: 7 \ttrue: 7\n",
            "\u001b[31mpred: 8 \ttrue: 3\u001b[0m\n",
            "pred: 6 \ttrue: 6\n",
            "pred: 1 \ttrue: 1\n",
            "pred: 3 \ttrue: 3\n",
            "pred: 6 \ttrue: 6\n",
            "pred: 9 \ttrue: 9\n",
            "pred: 3 \ttrue: 3\n",
            "pred: 1 \ttrue: 1\n",
            "pred: 4 \ttrue: 4\n",
            "pred: 1 \ttrue: 1\n",
            "\u001b[31mpred: 8 \ttrue: 7\u001b[0m\n",
            "pred: 6 \ttrue: 6\n",
            "pred: 9 \ttrue: 9\n",
            "Accuracy: 0.89\n",
            "Correct: 89\n"
          ]
        }
      ],
      "source": [
        "correct = 0\n",
        "\n",
        "for x,y in zip(x_test, y_test):\n",
        "    output = predict(network ,x)\n",
        "    if np.argmax(output) == np.argmax(y):\n",
        "        correct += 1\n",
        "        print('pred:', np.argmax(output), '\\ttrue:', np.argmax(y))\n",
        "    else:\n",
        "        print(simple_colors.red(f'pred: {np.argmax(output)} \\ttrue: {np.argmax(y)}'))\n",
        "    \n",
        "accuracy = correct / len(y_test)\n",
        "print(f\"Accuracy: {accuracy}\")\n",
        "print(f\"Correct: {correct}\")"
      ]
    },
    {
      "cell_type": "code",
      "execution_count": null,
      "id": "c0eedab8",
      "metadata": {
        "id": "c0eedab8"
      },
      "outputs": [],
      "source": [
        "error = errorlist\n",
        "X = list(range(1,len(errorlist) + 1))"
      ]
    },
    {
      "cell_type": "code",
      "execution_count": null,
      "id": "7e015d6f",
      "metadata": {
        "colab": {
          "base_uri": "https://localhost:8080/",
          "height": 472
        },
        "id": "7e015d6f",
        "outputId": "74e0dd93-7bf6-49ff-a359-2574e7ee3629"
      },
      "outputs": [
        {
          "data": {
            "image/png": "[encoded data removed]",
            "text/plain": [
              "<Figure size 640x480 with 1 Axes>"
            ]
          },
          "metadata": {},
          "output_type": "display_data"
        }
      ],
      "source": [
        "plt.plot(X, error, color='r')\n",
        "plt.xlabel(\"Epochs\")\n",
        "plt.ylabel(\"Error\")\n",
        "plt.title(\"Error Graph\")\n",
        "plt.show()"
      ]
    },
    {
      "cell_type": "code",
      "execution_count": null,
      "id": "6bd5c5e5",
      "metadata": {
        "id": "6bd5c5e5"
      },
      "outputs": [],
      "source": []
    }
  ],
  "metadata": {
    "accelerator": "GPU",
    "colab": {
      "provenance": []
    },
    "gpuClass": "standard",
    "kernelspec": {
      "display_name": "Python 3 (ipykernel)",
      "language": "python",
      "name": "python3"
    },
    "language_info": {
      "codemirror_mode": {
        "name": "ipython",
        "version": 3
      },
      "file_extension": ".py",
      "mimetype": "text/x-python",
      "name": "python",
      "nbconvert_exporter": "python",
      "pygments_lexer": "ipython3",
      "version": "3.9.12"
    }
  },
  "nbformat": 4,
  "nbformat_minor": 5
}