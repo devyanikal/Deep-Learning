{
  "cells": [
    {
      "cell_type": "code",
      "execution_count": null,
      "id": "7377cacf",
      "metadata": {
        "id": "7377cacf"
      },
      "outputs": [],
      "source": [
        "import keras\n",
        "from keras import layers\n",
        "\n",
        "encoding_dim = 32\n",
        "#input\n",
        "# This is our input image\n",
        "input_img = keras.Input(shape=(784,))\n",
        "#encoded representation(input)\n",
        "encoded = layers.Dense(encoding_dim, activation='relu')(input_img)\n",
        "# \"decoded\" is the lossy reconstruction of the input\n",
        "decoded = layers.Dense(784, activation='sigmoid')(encoded)\n",
        "# This model maps an input to its reconstruction\n",
        "autoencoder = keras.Model(input_img, decoded)"
      ]
    },
    {
      "cell_type": "markdown",
      "id": "3e094e83",
      "metadata": {
        "id": "3e094e83"
      },
      "source": [
        "#### 1.Implement Vanilla autoencoder"
      ]
    },
    {
      "cell_type": "code",
      "execution_count": null,
      "id": "8bebf956",
      "metadata": {
        "id": "8bebf956"
      },
      "outputs": [],
      "source": [
        "encoder = keras.Model(input_img, encoded)"
      ]
    },
    {
      "cell_type": "code",
      "execution_count": null,
      "id": "ce6f3d6b",
      "metadata": {
        "id": "ce6f3d6b"
      },
      "outputs": [],
      "source": [
        "encoded_input = keras.Input(shape=(encoding_dim,))\n",
        "decoder_layer = autoencoder.layers[-1]\n",
        "# Create the decoder model\n",
        "decoder = keras.Model(encoded_input, decoder_layer(encoded_input))"
      ]
    },
    {
      "cell_type": "code",
      "execution_count": null,
      "id": "81664d36",
      "metadata": {
        "id": "81664d36"
      },
      "outputs": [],
      "source": [
        "autoencoder.compile(optimizer='adam', loss='binary_crossentropy')"
      ]
    },
    {
      "cell_type": "code",
      "execution_count": null,
      "id": "41e46a47",
      "metadata": {
        "id": "41e46a47"
      },
      "outputs": [],
      "source": [
        "from keras.datasets import mnist\n",
        "import numpy as np\n",
        "(x_train, _), (x_test, _) = mnist.load_data()"
      ]
    },
    {
      "cell_type": "code",
      "execution_count": null,
      "id": "1ec080ea",
      "metadata": {
        "id": "1ec080ea",
        "outputId": "a19ca928-c855-411e-9da1-1a68c7d63a7a"
      },
      "outputs": [
        {
          "name": "stdout",
          "output_type": "stream",
          "text": [
            "(60000, 784)\n",
            "(10000, 784)\n"
          ]
        }
      ],
      "source": [
        "x_train = x_train.astype('float32') / 255.\n",
        "x_test = x_test.astype('float32') / 255.\n",
        "x_train = x_train.reshape((len(x_train), np.prod(x_train.shape[1:])))\n",
        "x_test = x_test.reshape((len(x_test), np.prod(x_test.shape[1:])))\n",
        "print(x_train.shape)\n",
        "print(x_test.shape)"
      ]
    },
    {
      "cell_type": "code",
      "execution_count": null,
      "id": "0f230de2",
      "metadata": {
        "id": "0f230de2",
        "outputId": "e470a74e-4e82-484a-a1a5-7e9b32c9a621"
      },
      "outputs": [
        {
          "name": "stdout",
          "output_type": "stream",
          "text": [
            "Epoch 1/50\n",
            "235/235 [==============================] - 3s 7ms/step - loss: 0.2749 - val_loss: 0.1891\n",
            "Epoch 2/50\n",
            "235/235 [==============================] - 1s 6ms/step - loss: 0.1700 - val_loss: 0.1527\n",
            "Epoch 3/50\n",
            "235/235 [==============================] - 1s 6ms/step - loss: 0.1440 - val_loss: 0.1338\n",
            "Epoch 4/50\n",
            "235/235 [==============================] - 1s 6ms/step - loss: 0.1287 - val_loss: 0.1215\n",
            "Epoch 5/50\n",
            "235/235 [==============================] - 1s 6ms/step - loss: 0.1183 - val_loss: 0.1129\n",
            "Epoch 6/50\n",
            "235/235 [==============================] - 1s 5ms/step - loss: 0.1111 - val_loss: 0.1070\n",
            "Epoch 7/50\n",
            "235/235 [==============================] - 1s 5ms/step - loss: 0.1061 - val_loss: 0.1029\n",
            "Epoch 8/50\n",
            "235/235 [==============================] - 1s 5ms/step - loss: 0.1025 - val_loss: 0.0997\n",
            "Epoch 9/50\n",
            "235/235 [==============================] - 1s 5ms/step - loss: 0.0997 - val_loss: 0.0973\n",
            "Epoch 10/50\n",
            "235/235 [==============================] - 1s 5ms/step - loss: 0.0978 - val_loss: 0.0957\n",
            "Epoch 11/50\n",
            "235/235 [==============================] - 1s 5ms/step - loss: 0.0965 - val_loss: 0.0946\n",
            "Epoch 12/50\n",
            "235/235 [==============================] - 1s 5ms/step - loss: 0.0956 - val_loss: 0.0939\n",
            "Epoch 13/50\n",
            "235/235 [==============================] - 1s 5ms/step - loss: 0.0950 - val_loss: 0.0935\n",
            "Epoch 14/50\n",
            "235/235 [==============================] - 1s 6ms/step - loss: 0.0946 - val_loss: 0.0931\n",
            "Epoch 15/50\n",
            "235/235 [==============================] - 1s 6ms/step - loss: 0.0943 - val_loss: 0.0928\n",
            "Epoch 16/50\n",
            "235/235 [==============================] - 1s 6ms/step - loss: 0.0941 - val_loss: 0.0928\n",
            "Epoch 17/50\n",
            "235/235 [==============================] - 1s 6ms/step - loss: 0.0939 - val_loss: 0.0925\n",
            "Epoch 18/50\n",
            "235/235 [==============================] - 1s 5ms/step - loss: 0.0937 - val_loss: 0.0924\n",
            "Epoch 19/50\n",
            "235/235 [==============================] - 1s 6ms/step - loss: 0.0936 - val_loss: 0.0923\n",
            "Epoch 20/50\n",
            "235/235 [==============================] - 1s 6ms/step - loss: 0.0935 - val_loss: 0.0923\n",
            "Epoch 21/50\n",
            "235/235 [==============================] - 1s 6ms/step - loss: 0.0935 - val_loss: 0.0922\n",
            "Epoch 22/50\n",
            "235/235 [==============================] - 1s 6ms/step - loss: 0.0934 - val_loss: 0.0920\n",
            "Epoch 23/50\n",
            "235/235 [==============================] - 1s 6ms/step - loss: 0.0933 - val_loss: 0.0920\n",
            "Epoch 24/50\n",
            "235/235 [==============================] - 1s 5ms/step - loss: 0.0933 - val_loss: 0.0920\n",
            "Epoch 25/50\n",
            "235/235 [==============================] - 1s 5ms/step - loss: 0.0932 - val_loss: 0.0920\n",
            "Epoch 26/50\n",
            "235/235 [==============================] - 1s 6ms/step - loss: 0.0932 - val_loss: 0.0919\n",
            "Epoch 27/50\n",
            "235/235 [==============================] - 2s 6ms/step - loss: 0.0931 - val_loss: 0.0918\n",
            "Epoch 28/50\n",
            "235/235 [==============================] - 1s 6ms/step - loss: 0.0931 - val_loss: 0.0918\n",
            "Epoch 29/50\n",
            "235/235 [==============================] - 1s 6ms/step - loss: 0.0931 - val_loss: 0.0918\n",
            "Epoch 30/50\n",
            "235/235 [==============================] - 1s 5ms/step - loss: 0.0930 - val_loss: 0.0918\n",
            "Epoch 31/50\n",
            "235/235 [==============================] - 1s 5ms/step - loss: 0.0930 - val_loss: 0.0918\n",
            "Epoch 32/50\n",
            "235/235 [==============================] - 1s 6ms/step - loss: 0.0930 - val_loss: 0.0917\n",
            "Epoch 33/50\n",
            "235/235 [==============================] - 1s 6ms/step - loss: 0.0929 - val_loss: 0.0918\n",
            "Epoch 34/50\n",
            "235/235 [==============================] - 1s 5ms/step - loss: 0.0929 - val_loss: 0.0918\n",
            "Epoch 35/50\n",
            "235/235 [==============================] - 1s 6ms/step - loss: 0.0929 - val_loss: 0.0917\n",
            "Epoch 36/50\n",
            "235/235 [==============================] - 1s 6ms/step - loss: 0.0929 - val_loss: 0.0917\n",
            "Epoch 37/50\n",
            "235/235 [==============================] - 1s 6ms/step - loss: 0.0928 - val_loss: 0.0917\n",
            "Epoch 38/50\n",
            "235/235 [==============================] - 2s 10ms/step - loss: 0.0928 - val_loss: 0.0916\n",
            "Epoch 39/50\n",
            "235/235 [==============================] - 2s 7ms/step - loss: 0.0928 - val_loss: 0.0917\n",
            "Epoch 40/50\n",
            "235/235 [==============================] - 2s 7ms/step - loss: 0.0928 - val_loss: 0.0917\n",
            "Epoch 41/50\n",
            "235/235 [==============================] - 1s 6ms/step - loss: 0.0928 - val_loss: 0.0916\n",
            "Epoch 42/50\n",
            "235/235 [==============================] - 1s 5ms/step - loss: 0.0928 - val_loss: 0.0917\n",
            "Epoch 43/50\n",
            "235/235 [==============================] - 1s 6ms/step - loss: 0.0928 - val_loss: 0.0916\n",
            "Epoch 44/50\n",
            "235/235 [==============================] - 1s 5ms/step - loss: 0.0928 - val_loss: 0.0916\n",
            "Epoch 45/50\n",
            "235/235 [==============================] - 1s 5ms/step - loss: 0.0927 - val_loss: 0.0916\n",
            "Epoch 46/50\n",
            "235/235 [==============================] - 1s 5ms/step - loss: 0.0927 - val_loss: 0.0916\n",
            "Epoch 47/50\n",
            "235/235 [==============================] - 1s 5ms/step - loss: 0.0927 - val_loss: 0.0916\n",
            "Epoch 48/50\n",
            "235/235 [==============================] - 1s 5ms/step - loss: 0.0927 - val_loss: 0.0916\n",
            "Epoch 49/50\n",
            "235/235 [==============================] - 1s 6ms/step - loss: 0.0927 - val_loss: 0.0916\n",
            "Epoch 50/50\n",
            "235/235 [==============================] - 2s 7ms/step - loss: 0.0927 - val_loss: 0.0916\n"
          ]
        },
        {
          "data": {
            "text/plain": [
              "<keras.callbacks.History at 0x26b19a19cd0>"
            ]
          },
          "execution_count": 7,
          "metadata": {},
          "output_type": "execute_result"
        }
      ],
      "source": [
        "autoencoder.fit(x_train, x_train,\n",
        "                epochs=50,\n",
        "                batch_size=256,\n",
        "                shuffle=True,\n",
        "                validation_data=(x_test, x_test))"
      ]
    },
    {
      "cell_type": "code",
      "execution_count": null,
      "id": "06e6a364",
      "metadata": {
        "id": "06e6a364",
        "outputId": "87f02380-2ca3-4e4c-db91-238c0599ec7b"
      },
      "outputs": [
        {
          "name": "stdout",
          "output_type": "stream",
          "text": [
            "313/313 [==============================] - 1s 2ms/step\n",
            "313/313 [==============================] - 1s 2ms/step\n"
          ]
        }
      ],
      "source": [
        "encoded_imgs = encoder.predict(x_test)\n",
        "decoded_imgs = decoder.predict(encoded_imgs)"
      ]
    },
    {
      "cell_type": "code",
      "execution_count": null,
      "id": "c68d4d58",
      "metadata": {
        "id": "c68d4d58",
        "outputId": "13f7e644-8ae8-4a85-dea8-7d0b1d9fc518"
      },
      "outputs": [
        {
          "data": {
            "image/png": "[encoded data removed]",
            "text/plain": [
              "<Figure size 2000x400 with 20 Axes>"
            ]
          },
          "metadata": {},
          "output_type": "display_data"
        }
      ],
      "source": [
        "# Use Matplotlib (don't ask)\n",
        "import matplotlib.pyplot as plt\n",
        "\n",
        "n = 10\n",
        "plt.figure(figsize=(20, 4))\n",
        "for i in range(n):\n",
        "    # Display original\n",
        "    ax = plt.subplot(2, n, i + 1)\n",
        "    plt.imshow(x_test[i].reshape(28, 28))\n",
        "    plt.gray()\n",
        "    ax.get_xaxis().set_visible(False)\n",
        "    ax.get_yaxis().set_visible(False)\n",
        "\n",
        "    # Display reconstruction\n",
        "    ax = plt.subplot(2, n, i + 1 + n)\n",
        "    plt.imshow(decoded_imgs[i].reshape(28, 28))\n",
        "    plt.gray()\n",
        "    ax.get_xaxis().set_visible(False)\n",
        "    ax.get_yaxis().set_visible(False)\n",
        "plt.show()"
      ]
    },
    {
      "cell_type": "markdown",
      "id": "62a18ba9",
      "metadata": {
        "id": "62a18ba9"
      },
      "source": [
        "#### 2.Implement Deep autoencoder"
      ]
    },
    {
      "cell_type": "code",
      "execution_count": null,
      "id": "c2039a55",
      "metadata": {
        "id": "c2039a55"
      },
      "outputs": [],
      "source": [
        "input_img = keras.Input(shape=(784,))\n",
        "encoded = layers.Dense(128, activation='relu')(input_img)\n",
        "encoded = layers.Dense(64, activation='relu')(encoded)\n",
        "encoded = layers.Dense(32, activation='relu')(encoded)\n",
        "\n",
        "decoded = layers.Dense(64, activation='relu')(encoded)\n",
        "decoded = layers.Dense(128, activation='relu')(decoded)\n",
        "decoded = layers.Dense(784, activation='sigmoid')(decoded)"
      ]
    },
    {
      "cell_type": "code",
      "execution_count": null,
      "id": "3c07a23c",
      "metadata": {
        "id": "3c07a23c",
        "outputId": "a2c4cd70-89bd-4318-8765-4aec2aa970ad"
      },
      "outputs": [
        {
          "name": "stdout",
          "output_type": "stream",
          "text": [
            "Epoch 1/100\n",
            "235/235 [==============================] - 3s 10ms/step - loss: 0.2454 - val_loss: 0.1658\n",
            "Epoch 2/100\n",
            "235/235 [==============================] - 2s 9ms/step - loss: 0.1501 - val_loss: 0.1364\n",
            "Epoch 3/100\n",
            "235/235 [==============================] - 2s 9ms/step - loss: 0.1305 - val_loss: 0.1227\n",
            "Epoch 4/100\n",
            "235/235 [==============================] - 2s 9ms/step - loss: 0.1204 - val_loss: 0.1157\n",
            "Epoch 5/100\n",
            "235/235 [==============================] - 2s 10ms/step - loss: 0.1151 - val_loss: 0.1121\n",
            "Epoch 6/100\n",
            "235/235 [==============================] - 2s 10ms/step - loss: 0.1115 - val_loss: 0.1087\n",
            "Epoch 7/100\n",
            "235/235 [==============================] - 2s 9ms/step - loss: 0.1086 - val_loss: 0.1065\n",
            "Epoch 8/100\n",
            "235/235 [==============================] - 2s 8ms/step - loss: 0.1061 - val_loss: 0.1038\n",
            "Epoch 9/100\n",
            "235/235 [==============================] - 2s 9ms/step - loss: 0.1036 - val_loss: 0.1015\n",
            "Epoch 10/100\n",
            "235/235 [==============================] - 2s 8ms/step - loss: 0.1016 - val_loss: 0.0998\n",
            "Epoch 11/100\n",
            "235/235 [==============================] - 2s 8ms/step - loss: 0.1002 - val_loss: 0.0982\n",
            "Epoch 12/100\n",
            "235/235 [==============================] - 2s 9ms/step - loss: 0.0988 - val_loss: 0.0976\n",
            "Epoch 13/100\n",
            "235/235 [==============================] - 2s 9ms/step - loss: 0.0978 - val_loss: 0.0963\n",
            "Epoch 14/100\n",
            "235/235 [==============================] - 2s 9ms/step - loss: 0.0968 - val_loss: 0.0955\n",
            "Epoch 15/100\n",
            "235/235 [==============================] - 2s 9ms/step - loss: 0.0959 - val_loss: 0.0945\n",
            "Epoch 16/100\n",
            "235/235 [==============================] - 2s 9ms/step - loss: 0.0952 - val_loss: 0.0939\n",
            "Epoch 17/100\n",
            "235/235 [==============================] - 2s 10ms/step - loss: 0.0944 - val_loss: 0.0932\n",
            "Epoch 18/100\n",
            "235/235 [==============================] - 2s 10ms/step - loss: 0.0938 - val_loss: 0.0926\n",
            "Epoch 19/100\n",
            "235/235 [==============================] - 2s 10ms/step - loss: 0.0932 - val_loss: 0.0918\n",
            "Epoch 20/100\n",
            "235/235 [==============================] - 3s 11ms/step - loss: 0.0925 - val_loss: 0.0914\n",
            "Epoch 21/100\n",
            "235/235 [==============================] - 3s 11ms/step - loss: 0.0920 - val_loss: 0.0912\n",
            "Epoch 22/100\n",
            "235/235 [==============================] - 2s 10ms/step - loss: 0.0915 - val_loss: 0.0906\n",
            "Epoch 23/100\n",
            "235/235 [==============================] - 2s 10ms/step - loss: 0.0910 - val_loss: 0.0898\n",
            "Epoch 24/100\n",
            "235/235 [==============================] - 2s 11ms/step - loss: 0.0906 - val_loss: 0.0897\n",
            "Epoch 25/100\n",
            "235/235 [==============================] - 3s 11ms/step - loss: 0.0902 - val_loss: 0.0892\n",
            "Epoch 26/100\n",
            "235/235 [==============================] - 3s 12ms/step - loss: 0.0898 - val_loss: 0.0892\n",
            "Epoch 27/100\n",
            "235/235 [==============================] - 3s 12ms/step - loss: 0.0896 - val_loss: 0.0888\n",
            "Epoch 28/100\n",
            "235/235 [==============================] - 3s 11ms/step - loss: 0.0892 - val_loss: 0.0884\n",
            "Epoch 29/100\n",
            "235/235 [==============================] - 3s 11ms/step - loss: 0.0890 - val_loss: 0.0883\n",
            "Epoch 30/100\n",
            "235/235 [==============================] - 3s 11ms/step - loss: 0.0887 - val_loss: 0.0880\n",
            "Epoch 31/100\n",
            "235/235 [==============================] - 3s 11ms/step - loss: 0.0884 - val_loss: 0.0875\n",
            "Epoch 32/100\n",
            "235/235 [==============================] - 3s 13ms/step - loss: 0.0882 - val_loss: 0.0872\n",
            "Epoch 33/100\n",
            "235/235 [==============================] - 3s 15ms/step - loss: 0.0880 - val_loss: 0.0872\n",
            "Epoch 34/100\n",
            "235/235 [==============================] - 3s 13ms/step - loss: 0.0878 - val_loss: 0.0869\n",
            "Epoch 35/100\n",
            "235/235 [==============================] - 4s 15ms/step - loss: 0.0875 - val_loss: 0.0867\n",
            "Epoch 36/100\n",
            "235/235 [==============================] - 3s 15ms/step - loss: 0.0874 - val_loss: 0.0866\n",
            "Epoch 37/100\n",
            "235/235 [==============================] - 4s 19ms/step - loss: 0.0871 - val_loss: 0.0863\n",
            "Epoch 38/100\n",
            "235/235 [==============================] - 3s 15ms/step - loss: 0.0869 - val_loss: 0.0864\n",
            "Epoch 39/100\n",
            "235/235 [==============================] - 3s 13ms/step - loss: 0.0868 - val_loss: 0.0863\n",
            "Epoch 40/100\n",
            "235/235 [==============================] - 3s 13ms/step - loss: 0.0866 - val_loss: 0.0861\n",
            "Epoch 41/100\n",
            "235/235 [==============================] - 4s 16ms/step - loss: 0.0864 - val_loss: 0.0857\n",
            "Epoch 42/100\n",
            "235/235 [==============================] - 4s 15ms/step - loss: 0.0862 - val_loss: 0.0856\n",
            "Epoch 43/100\n",
            "235/235 [==============================] - 3s 14ms/step - loss: 0.0860 - val_loss: 0.0854\n",
            "Epoch 44/100\n",
            "235/235 [==============================] - 3s 11ms/step - loss: 0.0858 - val_loss: 0.0857\n",
            "Epoch 45/100\n",
            "235/235 [==============================] - 2s 10ms/step - loss: 0.0857 - val_loss: 0.0852\n",
            "Epoch 46/100\n",
            "235/235 [==============================] - 4s 15ms/step - loss: 0.0856 - val_loss: 0.0850\n",
            "Epoch 47/100\n",
            "235/235 [==============================] - 4s 15ms/step - loss: 0.0854 - val_loss: 0.0849\n",
            "Epoch 48/100\n",
            "235/235 [==============================] - 3s 13ms/step - loss: 0.0853 - val_loss: 0.0848\n",
            "Epoch 49/100\n",
            "235/235 [==============================] - 3s 12ms/step - loss: 0.0852 - val_loss: 0.0846\n",
            "Epoch 50/100\n",
            "235/235 [==============================] - 3s 11ms/step - loss: 0.0851 - val_loss: 0.0845\n",
            "Epoch 51/100\n",
            "235/235 [==============================] - 3s 12ms/step - loss: 0.0849 - val_loss: 0.0846\n",
            "Epoch 52/100\n",
            "235/235 [==============================] - 3s 13ms/step - loss: 0.0848 - val_loss: 0.0842\n",
            "Epoch 53/100\n",
            "235/235 [==============================] - 3s 12ms/step - loss: 0.0847 - val_loss: 0.0845\n",
            "Epoch 54/100\n",
            "235/235 [==============================] - 3s 11ms/step - loss: 0.0846 - val_loss: 0.0842\n",
            "Epoch 55/100\n",
            "235/235 [==============================] - 3s 11ms/step - loss: 0.0845 - val_loss: 0.0839\n",
            "Epoch 56/100\n",
            "235/235 [==============================] - 3s 12ms/step - loss: 0.0844 - val_loss: 0.0839\n",
            "Epoch 57/100\n",
            "235/235 [==============================] - 3s 13ms/step - loss: 0.0844 - val_loss: 0.0840\n",
            "Epoch 58/100\n",
            "235/235 [==============================] - 3s 14ms/step - loss: 0.0843 - val_loss: 0.0838\n",
            "Epoch 59/100\n",
            "235/235 [==============================] - 3s 12ms/step - loss: 0.0841 - val_loss: 0.0837\n",
            "Epoch 60/100\n",
            "235/235 [==============================] - 3s 11ms/step - loss: 0.0841 - val_loss: 0.0837\n",
            "Epoch 61/100\n",
            "235/235 [==============================] - 3s 11ms/step - loss: 0.0840 - val_loss: 0.0839\n",
            "Epoch 62/100\n",
            "235/235 [==============================] - 3s 12ms/step - loss: 0.0840 - val_loss: 0.0836\n",
            "Epoch 63/100\n",
            "235/235 [==============================] - 3s 12ms/step - loss: 0.0839 - val_loss: 0.0836\n",
            "Epoch 64/100\n",
            "235/235 [==============================] - 3s 14ms/step - loss: 0.0838 - val_loss: 0.0834\n",
            "Epoch 65/100\n",
            "235/235 [==============================] - 3s 13ms/step - loss: 0.0838 - val_loss: 0.0834\n",
            "Epoch 66/100\n",
            "235/235 [==============================] - 3s 12ms/step - loss: 0.0837 - val_loss: 0.0833\n",
            "Epoch 67/100\n",
            "235/235 [==============================] - 3s 12ms/step - loss: 0.0837 - val_loss: 0.0832\n",
            "Epoch 68/100\n",
            "235/235 [==============================] - 4s 18ms/step - loss: 0.0835 - val_loss: 0.0833\n",
            "Epoch 69/100\n",
            "235/235 [==============================] - 3s 12ms/step - loss: 0.0835 - val_loss: 0.0833\n",
            "Epoch 70/100\n",
            "235/235 [==============================] - 3s 13ms/step - loss: 0.0835 - val_loss: 0.0832\n",
            "Epoch 71/100\n",
            "235/235 [==============================] - 3s 13ms/step - loss: 0.0835 - val_loss: 0.0832\n",
            "Epoch 72/100\n",
            "235/235 [==============================] - 3s 13ms/step - loss: 0.0834 - val_loss: 0.0829\n",
            "Epoch 73/100\n",
            "235/235 [==============================] - 3s 14ms/step - loss: 0.0833 - val_loss: 0.0830\n",
            "Epoch 74/100\n",
            "235/235 [==============================] - 3s 13ms/step - loss: 0.0833 - val_loss: 0.0833\n",
            "Epoch 75/100\n",
            "235/235 [==============================] - 3s 11ms/step - loss: 0.0832 - val_loss: 0.0829\n",
            "Epoch 76/100\n",
            "235/235 [==============================] - 3s 12ms/step - loss: 0.0832 - val_loss: 0.0828\n",
            "Epoch 77/100\n",
            "235/235 [==============================] - 3s 13ms/step - loss: 0.0831 - val_loss: 0.0829\n",
            "Epoch 78/100\n",
            "235/235 [==============================] - 3s 13ms/step - loss: 0.0831 - val_loss: 0.0830\n",
            "Epoch 79/100\n",
            "235/235 [==============================] - 3s 12ms/step - loss: 0.0831 - val_loss: 0.0829\n",
            "Epoch 80/100\n",
            "235/235 [==============================] - 3s 13ms/step - loss: 0.0830 - val_loss: 0.0827\n",
            "Epoch 81/100\n",
            "235/235 [==============================] - 3s 11ms/step - loss: 0.0830 - val_loss: 0.0827\n",
            "Epoch 82/100\n",
            "235/235 [==============================] - 3s 11ms/step - loss: 0.0829 - val_loss: 0.0829\n",
            "Epoch 83/100\n",
            "235/235 [==============================] - 3s 12ms/step - loss: 0.0829 - val_loss: 0.0828\n",
            "Epoch 84/100\n",
            "235/235 [==============================] - 3s 12ms/step - loss: 0.0829 - val_loss: 0.0825\n",
            "Epoch 85/100\n",
            "235/235 [==============================] - 3s 12ms/step - loss: 0.0829 - val_loss: 0.0826\n",
            "Epoch 86/100\n",
            "235/235 [==============================] - 3s 12ms/step - loss: 0.0828 - val_loss: 0.0825\n",
            "Epoch 87/100\n",
            "235/235 [==============================] - 3s 11ms/step - loss: 0.0828 - val_loss: 0.0826\n",
            "Epoch 88/100\n",
            "235/235 [==============================] - 3s 11ms/step - loss: 0.0827 - val_loss: 0.0826\n",
            "Epoch 89/100\n",
            "235/235 [==============================] - 3s 11ms/step - loss: 0.0827 - val_loss: 0.0823\n",
            "Epoch 90/100\n",
            "235/235 [==============================] - 3s 11ms/step - loss: 0.0827 - val_loss: 0.0824\n",
            "Epoch 91/100\n",
            "235/235 [==============================] - 3s 12ms/step - loss: 0.0826 - val_loss: 0.0825\n",
            "Epoch 92/100\n",
            "235/235 [==============================] - 3s 14ms/step - loss: 0.0826 - val_loss: 0.0826\n",
            "Epoch 93/100\n",
            "235/235 [==============================] - 3s 13ms/step - loss: 0.0825 - val_loss: 0.0824\n",
            "Epoch 94/100\n",
            "235/235 [==============================] - 3s 13ms/step - loss: 0.0825 - val_loss: 0.0823\n",
            "Epoch 95/100\n",
            "235/235 [==============================] - 3s 12ms/step - loss: 0.0825 - val_loss: 0.0824\n",
            "Epoch 96/100\n",
            "235/235 [==============================] - 3s 13ms/step - loss: 0.0825 - val_loss: 0.0827\n",
            "Epoch 97/100\n",
            "235/235 [==============================] - 4s 17ms/step - loss: 0.0825 - val_loss: 0.0824\n",
            "Epoch 98/100\n",
            "235/235 [==============================] - 3s 13ms/step - loss: 0.0824 - val_loss: 0.0823\n",
            "Epoch 99/100\n",
            "235/235 [==============================] - 3s 12ms/step - loss: 0.0824 - val_loss: 0.0822\n",
            "Epoch 100/100\n",
            "235/235 [==============================] - 3s 13ms/step - loss: 0.0823 - val_loss: 0.0824\n"
          ]
        },
        {
          "data": {
            "text/plain": [
              "<keras.callbacks.History at 0x26b22538370>"
            ]
          },
          "execution_count": 11,
          "metadata": {},
          "output_type": "execute_result"
        }
      ],
      "source": [
        "autoencoder = keras.Model(input_img, decoded)\n",
        "autoencoder.compile(optimizer='adam', loss='binary_crossentropy')\n",
        "\n",
        "autoencoder.fit(x_train, x_train,\n",
        "                epochs=100,\n",
        "                batch_size=256,\n",
        "                shuffle=True,\n",
        "                validation_data=(x_test, x_test))\n"
      ]
    },
    {
      "cell_type": "code",
      "execution_count": null,
      "id": "50c15c88",
      "metadata": {
        "id": "50c15c88",
        "outputId": "516f4740-0beb-4066-b12a-01c93466cee1"
      },
      "outputs": [
        {
          "name": "stdout",
          "output_type": "stream",
          "text": [
            "313/313 [==============================] - 1s 2ms/step\n",
            "313/313 [==============================] - 1s 2ms/step\n"
          ]
        }
      ],
      "source": [
        "encoded_imgs = encoder.predict(x_test)\n",
        "decoded_imgs = decoder.predict(encoded_imgs)"
      ]
    },
    {
      "cell_type": "code",
      "execution_count": null,
      "id": "c6a8c5e5",
      "metadata": {
        "id": "c6a8c5e5",
        "outputId": "46f35ff1-1e11-4df1-eea8-043cdfc33cc9"
      },
      "outputs": [
        {
          "data": {
            "image/png": "[encoded data removed]",
            "text/plain": [
              "<Figure size 2000x400 with 20 Axes>"
            ]
          },
          "metadata": {},
          "output_type": "display_data"
        }
      ],
      "source": [
        "\n",
        "import matplotlib.pyplot as plt\n",
        "\n",
        "n = 10\n",
        "plt.figure(figsize=(20, 4))\n",
        "for i in range(n):\n",
        "    # Display original\n",
        "    ax = plt.subplot(2, n, i + 1)\n",
        "    plt.imshow(x_test[i].reshape(28, 28))\n",
        "    plt.gray()\n",
        "    ax.get_xaxis().set_visible(False)\n",
        "    ax.get_yaxis().set_visible(False)\n",
        "\n",
        "    # Display reconstruction\n",
        "    ax = plt.subplot(2, n, i + 1 + n)\n",
        "    plt.imshow(decoded_imgs[i].reshape(28, 28))\n",
        "    plt.gray()\n",
        "    ax.get_xaxis().set_visible(False)\n",
        "    ax.get_yaxis().set_visible(False)\n",
        "plt.show()"
      ]
    },
    {
      "cell_type": "markdown",
      "id": "878ac5e3",
      "metadata": {
        "id": "878ac5e3"
      },
      "source": [
        "#### 3.Implement Convolutional autoencoder"
      ]
    },
    {
      "cell_type": "code",
      "execution_count": null,
      "id": "3e9b8bce",
      "metadata": {
        "id": "3e9b8bce"
      },
      "outputs": [],
      "source": [
        "import keras\n",
        "from keras import layers\n",
        "\n",
        "input_img = keras.Input(shape=(28, 28, 1))\n",
        "\n",
        "x = layers.Conv2D(16, (3, 3), activation='relu', padding='same')(input_img)\n",
        "x = layers.MaxPooling2D((2, 2), padding='same')(x)\n",
        "x = layers.Conv2D(8, (3, 3), activation='relu', padding='same')(x)\n",
        "x = layers.MaxPooling2D((2, 2), padding='same')(x)\n",
        "x = layers.Conv2D(8, (3, 3), activation='relu', padding='same')(x)\n",
        "encoded = layers.MaxPooling2D((2, 2), padding='same')(x)\n",
        "\n",
        "# at this point the representation is (4, 4, 8) i.e. 128-dimensional\n",
        "\n",
        "x = layers.Conv2D(8, (3, 3), activation='relu', padding='same')(encoded)\n",
        "x = layers.UpSampling2D((2, 2))(x)\n",
        "x = layers.Conv2D(8, (3, 3), activation='relu', padding='same')(x)\n",
        "x = layers.UpSampling2D((2, 2))(x)\n",
        "x = layers.Conv2D(16, (3, 3), activation='relu')(x)\n",
        "x = layers.UpSampling2D((2, 2))(x)\n",
        "decoded = layers.Conv2D(1, (3, 3), activation='sigmoid', padding='same')(x)\n",
        "\n",
        "autoencoder = keras.Model(input_img, decoded)\n",
        "autoencoder.compile(optimizer='adam', loss='binary_crossentropy')"
      ]
    },
    {
      "cell_type": "code",
      "execution_count": null,
      "id": "49fe03c0",
      "metadata": {
        "colab": {
          "base_uri": "https://localhost:8080/"
        },
        "id": "49fe03c0",
        "outputId": "40cfdeb2-fa5d-4259-bf68-e7a710f6a6ab"
      },
      "outputs": [
        {
          "output_type": "stream",
          "name": "stdout",
          "text": [
            "Downloading data from https://storage.googleapis.com/tensorflow/tf-keras-datasets/mnist.npz\n",
            "11490434/11490434 [==============================] - 0s 0us/step\n"
          ]
        }
      ],
      "source": [
        "from keras.datasets import mnist\n",
        "import numpy as np\n",
        "\n",
        "(x_train, _), (x_test, _) = mnist.load_data()\n",
        "\n",
        "x_train = x_train.astype('float32') / 255.\n",
        "x_test = x_test.astype('float32') / 255.\n",
        "x_train = np.reshape(x_train, (len(x_train), 28, 28, 1))\n",
        "x_test = np.reshape(x_test, (len(x_test), 28, 28, 1))"
      ]
    },
    {
      "cell_type": "code",
      "execution_count": null,
      "id": "3793c152",
      "metadata": {
        "colab": {
          "base_uri": "https://localhost:8080/"
        },
        "id": "3793c152",
        "outputId": "53904138-cd72-4b82-8a12-4a17aadc2d72"
      },
      "outputs": [
        {
          "output_type": "stream",
          "name": "stdout",
          "text": [
            "Epoch 1/50\n",
            "469/469 [==============================] - 15s 8ms/step - loss: 0.2023 - val_loss: 0.1403\n",
            "Epoch 2/50\n",
            "469/469 [==============================] - 3s 6ms/step - loss: 0.1326 - val_loss: 0.1253\n",
            "Epoch 3/50\n",
            "469/469 [==============================] - 3s 7ms/step - loss: 0.1229 - val_loss: 0.1196\n",
            "Epoch 4/50\n",
            "469/469 [==============================] - 3s 7ms/step - loss: 0.1177 - val_loss: 0.1145\n",
            "Epoch 5/50\n",
            "469/469 [==============================] - 3s 6ms/step - loss: 0.1142 - val_loss: 0.1117\n",
            "Epoch 6/50\n",
            "469/469 [==============================] - 3s 6ms/step - loss: 0.1117 - val_loss: 0.1097\n",
            "Epoch 7/50\n",
            "469/469 [==============================] - 3s 7ms/step - loss: 0.1097 - val_loss: 0.1075\n",
            "Epoch 8/50\n",
            "469/469 [==============================] - 3s 6ms/step - loss: 0.1081 - val_loss: 0.1062\n",
            "Epoch 9/50\n",
            "469/469 [==============================] - 3s 6ms/step - loss: 0.1067 - val_loss: 0.1052\n",
            "Epoch 10/50\n",
            "469/469 [==============================] - 3s 6ms/step - loss: 0.1056 - val_loss: 0.1038\n",
            "Epoch 11/50\n",
            "469/469 [==============================] - 3s 7ms/step - loss: 0.1046 - val_loss: 0.1029\n",
            "Epoch 12/50\n",
            "469/469 [==============================] - 3s 7ms/step - loss: 0.1038 - val_loss: 0.1023\n",
            "Epoch 13/50\n",
            "469/469 [==============================] - 3s 6ms/step - loss: 0.1029 - val_loss: 0.1016\n",
            "Epoch 14/50\n",
            "469/469 [==============================] - 3s 6ms/step - loss: 0.1024 - val_loss: 0.1008\n",
            "Epoch 15/50\n",
            "469/469 [==============================] - 4s 8ms/step - loss: 0.1017 - val_loss: 0.1005\n",
            "Epoch 16/50\n",
            "469/469 [==============================] - 3s 7ms/step - loss: 0.1011 - val_loss: 0.0996\n",
            "Epoch 17/50\n",
            "469/469 [==============================] - 3s 6ms/step - loss: 0.1006 - val_loss: 0.0996\n",
            "Epoch 18/50\n",
            "469/469 [==============================] - 3s 7ms/step - loss: 0.1001 - val_loss: 0.0989\n",
            "Epoch 19/50\n",
            "469/469 [==============================] - 3s 7ms/step - loss: 0.0997 - val_loss: 0.0983\n",
            "Epoch 20/50\n",
            "469/469 [==============================] - 3s 6ms/step - loss: 0.0993 - val_loss: 0.0978\n",
            "Epoch 21/50\n",
            "469/469 [==============================] - 3s 6ms/step - loss: 0.0989 - val_loss: 0.0976\n",
            "Epoch 22/50\n",
            "469/469 [==============================] - 3s 7ms/step - loss: 0.0985 - val_loss: 0.0973\n",
            "Epoch 23/50\n",
            "469/469 [==============================] - 3s 7ms/step - loss: 0.0981 - val_loss: 0.0971\n",
            "Epoch 24/50\n",
            "469/469 [==============================] - 3s 6ms/step - loss: 0.0979 - val_loss: 0.0967\n",
            "Epoch 25/50\n",
            "469/469 [==============================] - 3s 6ms/step - loss: 0.0975 - val_loss: 0.0966\n",
            "Epoch 26/50\n",
            "469/469 [==============================] - 3s 6ms/step - loss: 0.0972 - val_loss: 0.0962\n",
            "Epoch 27/50\n",
            "469/469 [==============================] - 3s 7ms/step - loss: 0.0969 - val_loss: 0.0969\n",
            "Epoch 28/50\n",
            "469/469 [==============================] - 3s 6ms/step - loss: 0.0967 - val_loss: 0.0958\n",
            "Epoch 29/50\n",
            "469/469 [==============================] - 3s 6ms/step - loss: 0.0964 - val_loss: 0.0952\n",
            "Epoch 30/50\n",
            "469/469 [==============================] - 3s 6ms/step - loss: 0.0961 - val_loss: 0.0950\n",
            "Epoch 31/50\n",
            "469/469 [==============================] - 3s 7ms/step - loss: 0.0959 - val_loss: 0.0945\n",
            "Epoch 32/50\n",
            "469/469 [==============================] - 3s 6ms/step - loss: 0.0956 - val_loss: 0.0945\n",
            "Epoch 33/50\n",
            "469/469 [==============================] - 3s 6ms/step - loss: 0.0954 - val_loss: 0.0941\n",
            "Epoch 34/50\n",
            "469/469 [==============================] - 3s 6ms/step - loss: 0.0952 - val_loss: 0.0941\n",
            "Epoch 35/50\n",
            "469/469 [==============================] - 3s 7ms/step - loss: 0.0949 - val_loss: 0.0939\n",
            "Epoch 36/50\n",
            "469/469 [==============================] - 3s 6ms/step - loss: 0.0947 - val_loss: 0.0934\n",
            "Epoch 37/50\n",
            "469/469 [==============================] - 3s 6ms/step - loss: 0.0945 - val_loss: 0.0932\n",
            "Epoch 38/50\n",
            "469/469 [==============================] - 3s 6ms/step - loss: 0.0943 - val_loss: 0.0929\n",
            "Epoch 39/50\n",
            "469/469 [==============================] - 3s 7ms/step - loss: 0.0941 - val_loss: 0.0930\n",
            "Epoch 40/50\n",
            "469/469 [==============================] - 3s 6ms/step - loss: 0.0939 - val_loss: 0.0929\n",
            "Epoch 41/50\n",
            "469/469 [==============================] - 3s 6ms/step - loss: 0.0937 - val_loss: 0.0925\n",
            "Epoch 42/50\n",
            "469/469 [==============================] - 3s 6ms/step - loss: 0.0935 - val_loss: 0.0925\n",
            "Epoch 43/50\n",
            "469/469 [==============================] - 3s 7ms/step - loss: 0.0934 - val_loss: 0.0921\n",
            "Epoch 44/50\n",
            "469/469 [==============================] - 3s 7ms/step - loss: 0.0933 - val_loss: 0.0923\n",
            "Epoch 45/50\n",
            "469/469 [==============================] - 3s 7ms/step - loss: 0.0931 - val_loss: 0.0925\n",
            "Epoch 46/50\n",
            "469/469 [==============================] - 3s 6ms/step - loss: 0.0930 - val_loss: 0.0920\n",
            "Epoch 47/50\n",
            "469/469 [==============================] - 3s 7ms/step - loss: 0.0928 - val_loss: 0.0915\n",
            "Epoch 48/50\n",
            "469/469 [==============================] - 3s 6ms/step - loss: 0.0927 - val_loss: 0.0916\n",
            "Epoch 49/50\n",
            "469/469 [==============================] - 3s 6ms/step - loss: 0.0926 - val_loss: 0.0916\n",
            "Epoch 50/50\n",
            "469/469 [==============================] - 3s 6ms/step - loss: 0.0925 - val_loss: 0.0912\n"
          ]
        },
        {
          "output_type": "execute_result",
          "data": {
            "text/plain": [
              "<keras.src.callbacks.History at 0x7c8a37f286a0>"
            ]
          },
          "metadata": {},
          "execution_count": 4
        }
      ],
      "source": [
        "from keras.callbacks import TensorBoard\n",
        "\n",
        "autoencoder.fit(x_train, x_train,\n",
        "                epochs=50,\n",
        "                batch_size=128,\n",
        "                shuffle=True,\n",
        "                validation_data=(x_test, x_test),\n",
        "                callbacks=[TensorBoard(log_dir='/tmp/autoencoder')])"
      ]
    },
    {
      "cell_type": "code",
      "execution_count": null,
      "id": "60928ee0",
      "metadata": {
        "colab": {
          "base_uri": "https://localhost:8080/",
          "height": 300
        },
        "id": "60928ee0",
        "outputId": "e99cf2b8-3d31-498f-8579-4782a07b5d7e"
      },
      "outputs": [
        {
          "output_type": "stream",
          "name": "stdout",
          "text": [
            "313/313 [==============================] - 1s 4ms/step\n"
          ]
        },
        {
          "output_type": "display_data",
          "data": {
            "text/plain": [
              "<Figure size 2000x400 with 20 Axes>"
            ],
            "image/png": "[encoded data removed]"
          },
          "metadata": {}
        }
      ],
      "source": [
        "import matplotlib.pyplot as plt\n",
        "decoded_imgs = autoencoder.predict(x_test)\n",
        "\n",
        "n = 10\n",
        "plt.figure(figsize=(20, 4))\n",
        "for i in range(1, n + 1):\n",
        "    # Display original\n",
        "    ax = plt.subplot(2, n, i)\n",
        "    plt.imshow(x_test[i].reshape(28, 28))\n",
        "    plt.gray()\n",
        "    ax.get_xaxis().set_visible(False)\n",
        "    ax.get_yaxis().set_visible(False)\n",
        "\n",
        "    # Display reconstruction\n",
        "    ax = plt.subplot(2, n, i + n)\n",
        "    plt.imshow(decoded_imgs[i].reshape(28, 28))\n",
        "    plt.gray()\n",
        "    ax.get_xaxis().set_visible(False)\n",
        "    ax.get_yaxis().set_visible(False)\n",
        "plt.show()"
      ]
    },
    {
      "cell_type": "markdown",
      "id": "92a7e4f2",
      "metadata": {
        "id": "92a7e4f2"
      },
      "source": [
        "#### 4.Compare results of all autoencoder"
      ]
    },
    {
      "cell_type": "markdown",
      "source": [
        "#### Vanilla autoencoder gives the loss of:- 0.0927\n",
        "#### Deep autoencoder gives loss of:- 0.0823\n",
        "#### Convolutional gives loss of:-0.0925\n",
        "#### Convolutional autoencoder gives us the best generated result among all three"
      ],
      "metadata": {
        "id": "Em-_cAFOKbv4"
      },
      "id": "Em-_cAFOKbv4"
    },
    {
      "cell_type": "code",
      "source": [],
      "metadata": {
        "id": "F9Anqfd8KVvB"
      },
      "id": "F9Anqfd8KVvB",
      "execution_count": null,
      "outputs": []
    }
  ],
  "metadata": {
    "kernelspec": {
      "display_name": "Python 3",
      "name": "python3"
    },
    "language_info": {
      "codemirror_mode": {
        "name": "ipython",
        "version": 3
      },
      "file_extension": ".py",
      "mimetype": "text/x-python",
      "name": "python",
      "nbconvert_exporter": "python",
      "pygments_lexer": "ipython3",
      "version": "3.9.13"
    },
    "colab": {
      "provenance": [],
      "gpuType": "T4"
    },
    "accelerator": "GPU"
  },
  "nbformat": 4,
  "nbformat_minor": 5
}